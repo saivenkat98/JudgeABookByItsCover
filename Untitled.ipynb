{
 "cells": [
  {
   "cell_type": "code",
   "execution_count": 2,
   "id": "4aa412d1",
   "metadata": {},
   "outputs": [
    {
     "name": "stdout",
     "output_type": "stream",
     "text": [
      "Datasets in file:\n",
      "model_weights\n",
      "optimizer_weights\n",
      "<HDF5 group \"/model_weights\" (4 members)>\n",
      "<HDF5 group \"/optimizer_weights\" (1 members)>\n"
     ]
    }
   ],
   "source": [
    "import h5py\n",
    "\n",
    "# Open the HDF5 file\n",
    "with h5py.File('model.h5', 'r') as f:\n",
    "    # List all the datasets in the file\n",
    "    print(\"Datasets in file:\")\n",
    "    for key in f.keys():\n",
    "        print(key)\n",
    "\n",
    "    # Access a specific dataset\n",
    "    dataset = f['model_weights']\n",
    "    print(dataset)\n",
    "    dataset1 = f['optimizer_weights']\n",
    "    print(dataset1)\n",
    "    # Do something with the dataset\n"
   ]
  },
  {
   "cell_type": "code",
   "execution_count": 7,
   "id": "ede275eb",
   "metadata": {},
   "outputs": [
    {
     "name": "stdout",
     "output_type": "stream",
     "text": [
      "Model weights group members:\n",
      "dense\n",
      "embedding\n",
      "lstm\n",
      "top_level_model_weights\n",
      "Shape of weights array: ['dense']\n"
     ]
    }
   ],
   "source": [
    "import h5py\n",
    "import numpy as np\n",
    "\n",
    "# Open the HDF5 file\n",
    "with h5py.File('model.h5', 'r') as f:\n",
    "    # Access the model weights group\n",
    "    model_weights_group = f['model_weights']\n",
    "    \n",
    "    # Print the names of the members in the group\n",
    "    print(\"Model weights group members:\")\n",
    "    for member_name in model_weights_group.keys():\n",
    "        print(member_name)\n",
    "    \n",
    "    # Access a specific member in the group\n",
    "    weights_array = np.array(model_weights_group['dense'])\n",
    "    # Do something with the weights array\n",
    "    print(\"Shape of weights array:\", weights_array)\n"
   ]
  },
  {
   "cell_type": "code",
   "execution_count": null,
   "id": "44bcf3bc",
   "metadata": {},
   "outputs": [],
   "source": []
  }
 ],
 "metadata": {
  "kernelspec": {
   "display_name": "Python 3 (ipykernel)",
   "language": "python",
   "name": "python3"
  },
  "language_info": {
   "codemirror_mode": {
    "name": "ipython",
    "version": 3
   },
   "file_extension": ".py",
   "mimetype": "text/x-python",
   "name": "python",
   "nbconvert_exporter": "python",
   "pygments_lexer": "ipython3",
   "version": "3.9.13"
  }
 },
 "nbformat": 4,
 "nbformat_minor": 5
}
