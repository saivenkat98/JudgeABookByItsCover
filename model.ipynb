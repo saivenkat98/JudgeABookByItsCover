{
 "cells": [
  {
   "cell_type": "markdown",
   "id": "5f47a20b",
   "metadata": {},
   "source": [
    "## Extracting Text from Image"
   ]
  },
  {
   "cell_type": "code",
   "execution_count": 1,
   "id": "d45ed905",
   "metadata": {},
   "outputs": [
    {
     "ename": "ModuleNotFoundError",
     "evalue": "No module named 'pytesseract'",
     "output_type": "error",
     "traceback": [
      "\u001b[0;31m---------------------------------------------------------------------------\u001b[0m",
      "\u001b[0;31mModuleNotFoundError\u001b[0m                       Traceback (most recent call last)",
      "\u001b[0;32m/var/folders/1p/l8cnzx_d1yl1nf_vq448qzzm0000gn/T/ipykernel_29791/2483916686.py\u001b[0m in \u001b[0;36m<module>\u001b[0;34m\u001b[0m\n\u001b[0;32m----> 1\u001b[0;31m \u001b[0;32mimport\u001b[0m \u001b[0mpytesseract\u001b[0m\u001b[0;34m\u001b[0m\u001b[0;34m\u001b[0m\u001b[0m\n\u001b[0m\u001b[1;32m      2\u001b[0m \u001b[0;32mfrom\u001b[0m \u001b[0mPIL\u001b[0m \u001b[0;32mimport\u001b[0m \u001b[0mImage\u001b[0m\u001b[0;34m\u001b[0m\u001b[0;34m\u001b[0m\u001b[0m\n\u001b[1;32m      3\u001b[0m \u001b[0;32mfrom\u001b[0m \u001b[0mtextblob\u001b[0m \u001b[0;32mimport\u001b[0m \u001b[0mTextBlob\u001b[0m\u001b[0;34m\u001b[0m\u001b[0;34m\u001b[0m\u001b[0m\n\u001b[1;32m      4\u001b[0m \u001b[0;32mimport\u001b[0m \u001b[0mmatplotlib\u001b[0m\u001b[0;34m.\u001b[0m\u001b[0mpyplot\u001b[0m \u001b[0;32mas\u001b[0m \u001b[0mplt\u001b[0m\u001b[0;34m\u001b[0m\u001b[0;34m\u001b[0m\u001b[0m\n\u001b[1;32m      5\u001b[0m \u001b[0;32mimport\u001b[0m \u001b[0mos\u001b[0m\u001b[0;34m\u001b[0m\u001b[0;34m\u001b[0m\u001b[0m\n",
      "\u001b[0;31mModuleNotFoundError\u001b[0m: No module named 'pytesseract'"
     ]
    }
   ],
   "source": [
    "import pytesseract\n",
    "from PIL import Image\n",
    "from textblob import TextBlob\n",
    "import matplotlib.pyplot as plt\n",
    "import os\n",
    "import time\n",
    "\n",
    "pytesseract.pytesseract.tesseract_cmd = r'C:\\Program Files\\Tesseract-OCR\\tesseract.exe'"
   ]
  },
  {
   "cell_type": "code",
   "execution_count": 9,
   "id": "13006724",
   "metadata": {},
   "outputs": [],
   "source": [
    "def extract_text(image_path):\n",
    "    img = Image.open(image_path)\n",
    "    text = pytesseract.image_to_string(img)\n",
    "    return text"
   ]
  },
  {
   "cell_type": "code",
   "execution_count": 11,
   "id": "dc33139e",
   "metadata": {},
   "outputs": [],
   "source": [
    "orginal_genre = []\n",
    "for genre in os.listdir(\"book-covers\"):\n",
    "    orginal_genre.append(genre)"
   ]
  },
  {
   "cell_type": "code",
   "execution_count": 18,
   "id": "2bf1a65d",
   "metadata": {},
   "outputs": [
    {
     "name": "stderr",
     "output_type": "stream",
     "text": [
      "Genre Progess: 100%|████████████████████████████████████████████████████████████████████████████████████████████████████████████████| 33/33 [1:54:23<00:00, 207.97s/it]\n"
     ]
    }
   ],
   "source": [
    "from tqdm import tqdm\n",
    "\n",
    "genre_class = []\n",
    "image_text = []\n",
    "for genre in tqdm(orginal_genre,desc=\"Genre Progess\"):\n",
    "    for img in os.listdir(\"book-covers/\"+genre):\n",
    "        text = extract_text(\"book-covers/\"+genre+\"/\"+img)\n",
    "        genre_class.append(genre)\n",
    "        image_text.append(text)"
   ]
  },
  {
   "cell_type": "markdown",
   "id": "fdb8113d",
   "metadata": {},
   "source": [
    "## Creating DataFrame and cleaning Image text"
   ]
  },
  {
   "cell_type": "code",
   "execution_count": 21,
   "id": "2c98a543",
   "metadata": {},
   "outputs": [],
   "source": [
    "import pandas as pd\n",
    "extracted_data = pd.DataFrame()\n",
    "extracted_data['Image_Text'] = image_text.copy()\n",
    "extracted_data['Genre'] = genre_class.copy()"
   ]
  },
  {
   "cell_type": "code",
   "execution_count": 29,
   "id": "3e5e9ac1",
   "metadata": {},
   "outputs": [],
   "source": [
    "import string\n",
    "\n",
    "clean_text = []\n",
    "for text in image_text:\n",
    "    text = text.lower()\n",
    "    text = ' '.join(text.split())\n",
    "    text = text.translate(str.maketrans('', '', string.punctuation))\n",
    "    clean_text.append(text)"
   ]
  },
  {
   "cell_type": "code",
   "execution_count": 31,
   "id": "577c2cb8",
   "metadata": {},
   "outputs": [],
   "source": [
    "extracted_data['Image_Text'] = clean_text.copy()"
   ]
  },
  {
   "cell_type": "markdown",
   "id": "6184dcba",
   "metadata": {},
   "source": [
    "### Saving the cleaned data "
   ]
  },
  {
   "cell_type": "code",
   "execution_count": 32,
   "id": "8b4c2de0",
   "metadata": {},
   "outputs": [],
   "source": [
    "extracted_data.to_csv(\"Extracted_data.csv\")"
   ]
  },
  {
   "cell_type": "code",
   "execution_count": 33,
   "id": "ae7e80a1",
   "metadata": {},
   "outputs": [
    {
     "data": {
      "text/html": [
       "<div>\n",
       "<style scoped>\n",
       "    .dataframe tbody tr th:only-of-type {\n",
       "        vertical-align: middle;\n",
       "    }\n",
       "\n",
       "    .dataframe tbody tr th {\n",
       "        vertical-align: top;\n",
       "    }\n",
       "\n",
       "    .dataframe thead th {\n",
       "        text-align: right;\n",
       "    }\n",
       "</style>\n",
       "<table border=\"1\" class=\"dataframe\">\n",
       "  <thead>\n",
       "    <tr style=\"text-align: right;\">\n",
       "      <th></th>\n",
       "      <th>Image_Text</th>\n",
       "      <th>Genre</th>\n",
       "    </tr>\n",
       "  </thead>\n",
       "  <tbody>\n",
       "    <tr>\n",
       "      <th>0</th>\n",
       "      <td>se ai b jk rowling ns fantastic beasts origina...</td>\n",
       "      <td>Art-Photography</td>\n",
       "    </tr>\n",
       "    <tr>\n",
       "      <th>1</th>\n",
       "      <td>mindfulness colouring book</td>\n",
       "      <td>Art-Photography</td>\n",
       "    </tr>\n",
       "    <tr>\n",
       "      <th>2</th>\n",
       "      <td>igen al soe  i onioinay®</td>\n",
       "      <td>Art-Photography</td>\n",
       "    </tr>\n",
       "    <tr>\n",
       "      <th>3</th>\n",
       "      <td></td>\n",
       "      <td>Art-Photography</td>\n",
       "    </tr>\n",
       "    <tr>\n",
       "      <th>4</th>\n",
       "      <td></td>\n",
       "      <td>Art-Photography</td>\n",
       "    </tr>\n",
       "  </tbody>\n",
       "</table>\n",
       "</div>"
      ],
      "text/plain": [
       "                                          Image_Text            Genre\n",
       "0  se ai b jk rowling ns fantastic beasts origina...  Art-Photography\n",
       "1                         mindfulness colouring book  Art-Photography\n",
       "2                           igen al soe  i onioinay®  Art-Photography\n",
       "3                                                     Art-Photography\n",
       "4                                                     Art-Photography"
      ]
     },
     "execution_count": 33,
     "metadata": {},
     "output_type": "execute_result"
    }
   ],
   "source": [
    "extracted_data.head()"
   ]
  },
  {
   "cell_type": "markdown",
   "id": "5d9c50aa",
   "metadata": {},
   "source": [
    "# Taking 18 GENRE For Model"
   ]
  },
  {
   "cell_type": "code",
   "execution_count": 9,
   "id": "fc082c69",
   "metadata": {},
   "outputs": [],
   "source": [
    "import pandas as pd\n",
    "df = pd.read_csv(\"Extracted_data.csv\")"
   ]
  },
  {
   "cell_type": "code",
   "execution_count": 10,
   "id": "bf763e59",
   "metadata": {},
   "outputs": [],
   "source": [
    "df = df.iloc[:17000,1:]\n",
    "df = df.dropna()"
   ]
  },
  {
   "cell_type": "code",
   "execution_count": 11,
   "id": "13f12f13",
   "metadata": {},
   "outputs": [
    {
     "data": {
      "text/plain": [
       "Image_Text    6190\n",
       "Genre           18\n",
       "dtype: int64"
      ]
     },
     "execution_count": 11,
     "metadata": {},
     "output_type": "execute_result"
    }
   ],
   "source": [
    "df.nunique()"
   ]
  },
  {
   "cell_type": "markdown",
   "id": "e8bcbcd3",
   "metadata": {},
   "source": [
    "# LSTM MODEL"
   ]
  },
  {
   "cell_type": "code",
   "execution_count": 12,
   "id": "5584b614",
   "metadata": {},
   "outputs": [],
   "source": [
    "import pandas as pd\n",
    "import numpy as np\n",
    "from sklearn.model_selection import train_test_split\n",
    "from keras.preprocessing.text import Tokenizer\n",
    "from keras.utils import pad_sequences\n",
    "from keras.utils import to_categorical\n",
    "from keras.models import Sequential\n",
    "from keras.layers import Dense, LSTM, Embedding\n",
    "from keras.callbacks import EarlyStopping"
   ]
  },
  {
   "cell_type": "code",
   "execution_count": 13,
   "id": "7c2b1a32",
   "metadata": {},
   "outputs": [],
   "source": [
    "X = df['Image_Text'].values\n",
    "y = df['Genre'].values\n",
    "\n",
    "tokenizer = Tokenizer()\n",
    "tokenizer.fit_on_texts(X)\n",
    "X = tokenizer.texts_to_sequences(X)\n",
    "X = pad_sequences(X)\n",
    "\n",
    "y = pd.get_dummies(y)\n",
    "num_classes = y.shape[1]"
   ]
  },
  {
   "cell_type": "code",
   "execution_count": 14,
   "id": "ec812659",
   "metadata": {},
   "outputs": [],
   "source": [
    "import pickle\n",
    "with open(\"tokenizer.pkl\", \"wb\") as f:\n",
    "    pickle.dump(tokenizer, f)"
   ]
  },
  {
   "cell_type": "code",
   "execution_count": 15,
   "id": "1f9522bc",
   "metadata": {},
   "outputs": [],
   "source": [
    "model = Sequential()\n",
    "model.add(Embedding(input_dim=len(tokenizer.word_index) + 1, output_dim=128))\n",
    "model.add(LSTM(128))\n",
    "model.add(Dense(num_classes, activation='softmax'))\n",
    "\n",
    "model.compile(loss='categorical_crossentropy', optimizer='adam', metrics=['accuracy'])"
   ]
  },
  {
   "cell_type": "code",
   "execution_count": 16,
   "id": "04b1f18d",
   "metadata": {},
   "outputs": [
    {
     "name": "stdout",
     "output_type": "stream",
     "text": [
      "Epoch 1/20\n",
      "125/125 [==============================] - 18s 87ms/step - loss: 2.8358 - accuracy: 0.0833\n",
      "Epoch 2/20\n",
      "125/125 [==============================] - 11s 84ms/step - loss: 2.4541 - accuracy: 0.2717\n",
      "Epoch 3/20\n",
      "125/125 [==============================] - 10s 82ms/step - loss: 1.5511 - accuracy: 0.5367\n",
      "Epoch 4/20\n",
      "125/125 [==============================] - 10s 82ms/step - loss: 1.0106 - accuracy: 0.6642\n",
      "Epoch 5/20\n",
      "125/125 [==============================] - 10s 82ms/step - loss: 0.7945 - accuracy: 0.7029\n",
      "Epoch 6/20\n",
      "125/125 [==============================] - 10s 82ms/step - loss: 0.6828 - accuracy: 0.7154\n",
      "Epoch 7/20\n",
      "125/125 [==============================] - 10s 82ms/step - loss: 0.6178 - accuracy: 0.7233\n",
      "Epoch 8/20\n",
      "125/125 [==============================] - 10s 82ms/step - loss: 0.5829 - accuracy: 0.7160\n",
      "Epoch 9/20\n",
      "125/125 [==============================] - 10s 83ms/step - loss: 0.5522 - accuracy: 0.7229\n",
      "Epoch 10/20\n",
      "125/125 [==============================] - 10s 83ms/step - loss: 0.5350 - accuracy: 0.7234\n",
      "Epoch 11/20\n",
      "125/125 [==============================] - 10s 83ms/step - loss: 0.5171 - accuracy: 0.7205\n",
      "Epoch 12/20\n",
      "125/125 [==============================] - 10s 83ms/step - loss: 0.5006 - accuracy: 0.7229\n",
      "Epoch 13/20\n",
      "125/125 [==============================] - 11s 84ms/step - loss: 0.4929 - accuracy: 0.7218\n",
      "Epoch 14/20\n",
      "125/125 [==============================] - 10s 81ms/step - loss: 0.4793 - accuracy: 0.7258\n",
      "Epoch 15/20\n",
      "125/125 [==============================] - 10s 79ms/step - loss: 0.4690 - accuracy: 0.7281\n",
      "Epoch 16/20\n",
      "125/125 [==============================] - 10s 80ms/step - loss: 0.4629 - accuracy: 0.7287\n",
      "Epoch 17/20\n",
      "125/125 [==============================] - 10s 80ms/step - loss: 0.4571 - accuracy: 0.7339\n",
      "Epoch 18/20\n",
      "125/125 [==============================] - 10s 79ms/step - loss: 0.4509 - accuracy: 0.7272\n",
      "Epoch 19/20\n",
      "125/125 [==============================] - 10s 80ms/step - loss: 0.4437 - accuracy: 0.7283\n",
      "Epoch 20/20\n",
      "125/125 [==============================] - 10s 81ms/step - loss: 0.4377 - accuracy: 0.7306\n"
     ]
    },
    {
     "data": {
      "text/plain": [
       "<keras.callbacks.History at 0x2bb4c06a8e0>"
      ]
     },
     "execution_count": 16,
     "metadata": {},
     "output_type": "execute_result"
    }
   ],
   "source": [
    "model.fit(X, y, epochs=20, batch_size=64)"
   ]
  },
  {
   "cell_type": "markdown",
   "id": "7a6f8945",
   "metadata": {},
   "source": [
    "## Checking Efficiency"
   ]
  },
  {
   "cell_type": "code",
   "execution_count": 17,
   "id": "eb7cf303",
   "metadata": {},
   "outputs": [],
   "source": [
    "y_arr = np.array(y)\n",
    "y_org = np.argmax(y_arr,axis=1)\n",
    "\n",
    "y_pred = model.predict(X,verbose=0)\n",
    "y_pred = np.argmax(y_pred,axis=1)"
   ]
  },
  {
   "cell_type": "markdown",
   "id": "da9637c7",
   "metadata": {},
   "source": [
    "#### Save the model"
   ]
  },
  {
   "cell_type": "code",
   "execution_count": 18,
   "id": "23df8910",
   "metadata": {},
   "outputs": [],
   "source": [
    "model.save(\"model.h5\")"
   ]
  },
  {
   "cell_type": "code",
   "execution_count": 21,
   "id": "006296a1",
   "metadata": {},
   "outputs": [
    {
     "name": "stdout",
     "output_type": "stream",
     "text": [
      "FOR 18 GENRE :::\n",
      " \n",
      "Accuracy :  79.14 %\n",
      "\n",
      "Classification Report : \n",
      "               precision    recall  f1-score   support\n",
      "\n",
      "           0       0.68      0.32      0.43       373\n",
      "           1       0.64      0.56      0.60       476\n",
      "           2       0.94      0.74      0.83       615\n",
      "           3       0.97      0.89      0.93       404\n",
      "           4       0.92      0.96      0.94       548\n",
      "           5       0.80      0.80      0.80       383\n",
      "           6       0.91      0.94      0.93       485\n",
      "           7       0.84      0.95      0.89       510\n",
      "           8       0.53      0.90      0.67       348\n",
      "           9       0.77      0.92      0.84       409\n",
      "          10       0.81      0.89      0.85       162\n",
      "          11       0.74      0.58      0.65       583\n",
      "          12       0.77      0.87      0.82       538\n",
      "          13       0.86      0.82      0.84       419\n",
      "          14       0.78      0.75      0.76       456\n",
      "          15       0.80      0.75      0.77       608\n",
      "          16       0.74      0.85      0.79       553\n",
      "          17       0.63      0.82      0.71        88\n",
      "\n",
      "    accuracy                           0.79      7958\n",
      "   macro avg       0.78      0.80      0.78      7958\n",
      "weighted avg       0.80      0.79      0.79      7958\n",
      "\n"
     ]
    }
   ],
   "source": [
    "from sklearn.metrics import accuracy_score,classification_report\n",
    "print(\"FOR 18 GENRE :::\\n \")\n",
    "print(\"Accuracy : \",round(accuracy_score(y_org,y_pred)*100,2),\"%\")\n",
    "print(\"\\nClassification Report : \\n\",classification_report(y_org,y_pred))"
   ]
  },
  {
   "cell_type": "markdown",
   "id": "97ace8af",
   "metadata": {},
   "source": [
    "# Calculating percentage and plotting"
   ]
  },
  {
   "cell_type": "code",
   "execution_count": 22,
   "id": "4e179e65",
   "metadata": {},
   "outputs": [
    {
     "name": "stdout",
     "output_type": "stream",
     "text": [
      "249/249 [==============================] - 3s 14ms/step\n"
     ]
    }
   ],
   "source": [
    "import re\n",
    "import pandas as pd\n",
    "from textblob import TextBlob\n",
    "\n",
    "# Define a function to conduct sentimental analysis on the text\n",
    "def get_sentiment(text):\n",
    "    blob = TextBlob(text)\n",
    "    sentiment = blob.sentiment.polarity\n",
    "    if sentiment > 0:\n",
    "        return 'positive'\n",
    "    elif sentiment < 0:\n",
    "        return 'negative'\n",
    "    else:\n",
    "        return 'neutral'\n",
    "\n",
    "# Apply sentimental analysis to the 'text' column\n",
    "df['sentiment'] = df['Image_Text'].apply(get_sentiment)\n",
    "\n",
    "# Predict the genre for each row in 'text'\n",
    "genre = model.predict(X)\n",
    "genre = np.argmax(genre,axis=1)\n",
    "df['predicted_genre'] = list(genre)"
   ]
  },
  {
   "cell_type": "code",
   "execution_count": 23,
   "id": "241cf4af",
   "metadata": {},
   "outputs": [],
   "source": [
    "genres = list(df['Genre'].unique())\n",
    "df['predicted_genre'] = [genres[i] for i in y_pred]"
   ]
  },
  {
   "cell_type": "code",
   "execution_count": 24,
   "id": "2a5c81f2",
   "metadata": {},
   "outputs": [
    {
     "name": "stdout",
     "output_type": "stream",
     "text": [
      "Genre                       Positive (%)    Neutral (%)    Negative (%)    Predicted Genres\n",
      "--------------------------  --------------  -------------  --------------  ----------------------------------\n",
      "Art-Photography             9.38%           86.33%         4.29%           Entertainment: 44.5%\n",
      "                                                                           Art-Photography: 31.9%\n",
      "                                                                           Home-Garden: 5.36%\n",
      "                                                                           Crafts-Hobbies: 5.09%\n",
      "                                                                           Humour: 2.68%\n",
      "                                                                           Biography: 1.88%\n",
      "                                                                           Dictionaries-Languages: 1.34%\n",
      "                                                                           Computing: 1.34%\n",
      "                                                                           History-Archaeology: 1.07%\n",
      "                                                                           Business-Finance-Law: 0.8%\n",
      "                                                                           Mind-Body-Spirit: 0.8%\n",
      "                                                                           Graphic-Novels-Anime-Manga: 0.8%\n",
      "                                                                           Medical: 0.8%\n",
      "                                                                           Natural-History: 0.8%\n",
      "                                                                           Crime-Thriller: 0.54%\n",
      "                                                                           Health: 0.27%\n",
      "Biography                   7.98%           87.39%         4.62%           Biography: 55.88%\n",
      "                                                                           History-Archaeology: 14.08%\n",
      "                                                                           Entertainment: 10.08%\n",
      "                                                                           Medical: 3.99%\n",
      "                                                                           Health: 2.94%\n",
      "                                                                           Crime-Thriller: 2.94%\n",
      "                                                                           Natural-History: 2.31%\n",
      "                                                                           Mind-Body-Spirit: 1.68%\n",
      "                                                                           Food-Drink: 1.47%\n",
      "                                                                           Business-Finance-Law: 1.05%\n",
      "                                                                           Art-Photography: 1.05%\n",
      "                                                                           Graphic-Novels-Anime-Manga: 0.84%\n",
      "                                                                           Home-Garden: 0.84%\n",
      "                                                                           Dictionaries-Languages: 0.63%\n",
      "                                                                           Humour: 0.21%\n",
      "Business-Finance-Law        13.66%          80.65%         5.69%           Business-Finance-Law: 73.66%\n",
      "                                                                           Biography: 6.83%\n",
      "                                                                           Computing: 4.55%\n",
      "                                                                           History-Archaeology: 4.07%\n",
      "                                                                           Health: 2.28%\n",
      "                                                                           Mind-Body-Spirit: 2.28%\n",
      "                                                                           Dictionaries-Languages: 2.28%\n",
      "                                                                           Humour: 1.14%\n",
      "                                                                           Crime-Thriller: 0.81%\n",
      "                                                                           Art-Photography: 0.49%\n",
      "                                                                           Medical: 0.49%\n",
      "                                                                           Crafts-Hobbies: 0.33%\n",
      "                                                                           Food-Drink: 0.33%\n",
      "                                                                           Childrens-Books: 0.16%\n",
      "                                                                           Entertainment: 0.16%\n",
      "                                                                           Home-Garden: 0.16%\n",
      "Childrens-Books             8.66%           84.9%          6.44%           Childrens-Books: 89.36%\n",
      "                                                                           Graphic-Novels-Anime-Manga: 4.21%\n",
      "                                                                           Crime-Thriller: 1.24%\n",
      "                                                                           Entertainment: 0.99%\n",
      "                                                                           Dictionaries-Languages: 0.99%\n",
      "                                                                           Biography: 0.74%\n",
      "                                                                           Business-Finance-Law: 0.5%\n",
      "                                                                           Food-Drink: 0.5%\n",
      "                                                                           Humour: 0.5%\n",
      "                                                                           Health: 0.25%\n",
      "                                                                           Art-Photography: 0.25%\n",
      "                                                                           History-Archaeology: 0.25%\n",
      "                                                                           Crafts-Hobbies: 0.25%\n",
      "Computing                   13.87%          82.12%         4.01%           Computing: 95.8%\n",
      "                                                                           Humour: 1.82%\n",
      "                                                                           Biography: 0.73%\n",
      "                                                                           Dictionaries-Languages: 0.55%\n",
      "                                                                           Business-Finance-Law: 0.36%\n",
      "                                                                           Crafts-Hobbies: 0.36%\n",
      "                                                                           Health: 0.18%\n",
      "                                                                           Crime-Thriller: 0.18%\n",
      "Crafts-Hobbies              9.4%            87.73%         2.87%           Crafts-Hobbies: 79.63%\n",
      "                                                                           Art-Photography: 9.14%\n",
      "                                                                           Home-Garden: 3.13%\n",
      "                                                                           Humour: 2.87%\n",
      "                                                                           Dictionaries-Languages: 1.57%\n",
      "                                                                           Computing: 1.04%\n",
      "                                                                           Health: 0.78%\n",
      "                                                                           Food-Drink: 0.52%\n",
      "                                                                           History-Archaeology: 0.52%\n",
      "                                                                           Mind-Body-Spirit: 0.26%\n",
      "                                                                           Natural-History: 0.26%\n",
      "                                                                           Entertainment: 0.26%\n",
      "Crime-Thriller              4.12%           89.69%         6.19%           Crime-Thriller: 94.23%\n",
      "                                                                           Biography: 2.27%\n",
      "                                                                           Childrens-Books: 1.65%\n",
      "                                                                           History-Archaeology: 0.82%\n",
      "                                                                           Health: 0.41%\n",
      "                                                                           Humour: 0.41%\n",
      "                                                                           Art-Photography: 0.21%\n",
      "Dictionaries-Languages      13.53%          84.9%          1.57%           Dictionaries-Languages: 95.29%\n",
      "                                                                           History-Archaeology: 1.37%\n",
      "                                                                           Humour: 1.37%\n",
      "                                                                           Entertainment: 0.39%\n",
      "                                                                           Crafts-Hobbies: 0.39%\n",
      "                                                                           Biography: 0.39%\n",
      "                                                                           Computing: 0.39%\n",
      "                                                                           Health: 0.2%\n",
      "                                                                           Business-Finance-Law: 0.2%\n",
      "Entertainment               7.47%           88.51%         4.02%           Entertainment: 90.23%\n",
      "                                                                           Dictionaries-Languages: 2.87%\n",
      "                                                                           Medical: 1.72%\n",
      "                                                                           Humour: 1.44%\n",
      "                                                                           Art-Photography: 0.86%\n",
      "                                                                           Crafts-Hobbies: 0.57%\n",
      "                                                                           Home-Garden: 0.57%\n",
      "                                                                           Natural-History: 0.29%\n",
      "                                                                           Computing: 0.29%\n",
      "                                                                           Biography: 0.29%\n",
      "                                                                           Crime-Thriller: 0.29%\n",
      "                                                                           History-Archaeology: 0.29%\n",
      "                                                                           Mind-Body-Spirit: 0.29%\n",
      "Food-Drink                  17.6%           79.71%         2.69%           Food-Drink: 92.18%\n",
      "                                                                           Entertainment: 1.71%\n",
      "                                                                           Health: 1.22%\n",
      "                                                                           Medical: 0.98%\n",
      "                                                                           Crime-Thriller: 0.49%\n",
      "                                                                           Natural-History: 0.49%\n",
      "                                                                           Humour: 0.49%\n",
      "                                                                           Mind-Body-Spirit: 0.49%\n",
      "                                                                           Biography: 0.49%\n",
      "                                                                           Home-Garden: 0.49%\n",
      "                                                                           Graphic-Novels-Anime-Manga: 0.24%\n",
      "                                                                           Computing: 0.24%\n",
      "                                                                           History-Archaeology: 0.24%\n",
      "                                                                           Crafts-Hobbies: 0.24%\n",
      "Graphic-Novels-Anime-Manga  6.17%           90.74%         3.09%           Graphic-Novels-Anime-Manga: 88.89%\n",
      "                                                                           Humour: 3.7%\n",
      "                                                                           Dictionaries-Languages: 2.47%\n",
      "                                                                           History-Archaeology: 1.23%\n",
      "                                                                           Childrens-Books: 0.62%\n",
      "                                                                           Biography: 0.62%\n",
      "                                                                           Art-Photography: 0.62%\n",
      "                                                                           Computing: 0.62%\n",
      "                                                                           Crime-Thriller: 0.62%\n",
      "                                                                           Entertainment: 0.62%\n",
      "Health                      18.01%          77.36%         4.63%           Health: 58.32%\n",
      "                                                                           Mind-Body-Spirit: 13.72%\n",
      "                                                                           Medical: 9.09%\n",
      "                                                                           Food-Drink: 8.92%\n",
      "                                                                           Biography: 2.57%\n",
      "                                                                           Humour: 1.37%\n",
      "                                                                           Home-Garden: 1.03%\n",
      "                                                                           Entertainment: 1.03%\n",
      "                                                                           Business-Finance-Law: 0.86%\n",
      "                                                                           Natural-History: 0.86%\n",
      "                                                                           Crime-Thriller: 0.86%\n",
      "                                                                           Crafts-Hobbies: 0.51%\n",
      "                                                                           History-Archaeology: 0.51%\n",
      "                                                                           Childrens-Books: 0.17%\n",
      "                                                                           Computing: 0.17%\n",
      "History-Archaeology         8.74%           86.62%         4.65%           History-Archaeology: 87.36%\n",
      "                                                                           Biography: 3.53%\n",
      "                                                                           Dictionaries-Languages: 1.86%\n",
      "                                                                           Medical: 1.67%\n",
      "                                                                           Humour: 0.93%\n",
      "                                                                           Entertainment: 0.74%\n",
      "                                                                           Business-Finance-Law: 0.74%\n",
      "                                                                           Crime-Thriller: 0.74%\n",
      "                                                                           Art-Photography: 0.56%\n",
      "                                                                           Food-Drink: 0.56%\n",
      "                                                                           Home-Garden: 0.37%\n",
      "                                                                           Crafts-Hobbies: 0.37%\n",
      "                                                                           Health: 0.19%\n",
      "                                                                           Natural-History: 0.19%\n",
      "                                                                           Computing: 0.19%\n",
      "Home-Garden                 12.65%          84.01%         3.34%           Home-Garden: 82.1%\n",
      "                                                                           Crafts-Hobbies: 7.64%\n",
      "                                                                           Food-Drink: 3.34%\n",
      "                                                                           Humour: 1.91%\n",
      "                                                                           Natural-History: 1.43%\n",
      "                                                                           Entertainment: 0.95%\n",
      "                                                                           Health: 0.72%\n",
      "                                                                           Mind-Body-Spirit: 0.48%\n",
      "                                                                           Crime-Thriller: 0.48%\n",
      "                                                                           Art-Photography: 0.24%\n",
      "                                                                           Biography: 0.24%\n",
      "                                                                           Medical: 0.24%\n",
      "                                                                           Dictionaries-Languages: 0.24%\n",
      "Humour                      8.33%           83.33%         8.33%           Humour: 74.56%\n",
      "                                                                           Biography: 5.26%\n",
      "                                                                           Entertainment: 5.04%\n",
      "                                                                           Dictionaries-Languages: 4.82%\n",
      "                                                                           Graphic-Novels-Anime-Manga: 1.75%\n",
      "                                                                           History-Archaeology: 1.54%\n",
      "                                                                           Health: 1.32%\n",
      "                                                                           Natural-History: 1.32%\n",
      "                                                                           Crafts-Hobbies: 1.1%\n",
      "                                                                           Business-Finance-Law: 0.88%\n",
      "                                                                           Art-Photography: 0.88%\n",
      "                                                                           Medical: 0.44%\n",
      "                                                                           Crime-Thriller: 0.44%\n",
      "                                                                           Mind-Body-Spirit: 0.22%\n",
      "                                                                           Food-Drink: 0.22%\n",
      "                                                                           Computing: 0.22%\n",
      "Medical                     12.01%          84.38%         3.62%           Medical: 74.84%\n",
      "                                                                           Health: 9.05%\n",
      "                                                                           Mind-Body-Spirit: 8.39%\n",
      "                                                                           Food-Drink: 3.29%\n",
      "                                                                           Dictionaries-Languages: 0.99%\n",
      "                                                                           Humour: 0.82%\n",
      "                                                                           Natural-History: 0.66%\n",
      "                                                                           History-Archaeology: 0.49%\n",
      "                                                                           Business-Finance-Law: 0.33%\n",
      "                                                                           Entertainment: 0.33%\n",
      "                                                                           Crafts-Hobbies: 0.33%\n",
      "                                                                           Crime-Thriller: 0.33%\n",
      "                                                                           Computing: 0.16%\n",
      "Mind-Body-Spirit            12.84%          83.91%         3.25%           Mind-Body-Spirit: 84.99%\n",
      "                                                                           Biography: 2.71%\n",
      "                                                                           Medical: 2.53%\n",
      "                                                                           Health: 2.53%\n",
      "                                                                           Food-Drink: 1.45%\n",
      "                                                                           Home-Garden: 1.45%\n",
      "                                                                           History-Archaeology: 1.08%\n",
      "                                                                           Entertainment: 0.72%\n",
      "                                                                           Humour: 0.72%\n",
      "                                                                           Dictionaries-Languages: 0.72%\n",
      "                                                                           Natural-History: 0.54%\n",
      "                                                                           Crafts-Hobbies: 0.36%\n",
      "                                                                           Computing: 0.18%\n",
      "Natural-History             10.23%          85.23%         4.55%           Natural-History: 81.82%\n",
      "                                                                           History-Archaeology: 4.55%\n",
      "                                                                           Biography: 3.41%\n",
      "                                                                           Humour: 3.41%\n",
      "                                                                           Medical: 2.27%\n",
      "                                                                           Graphic-Novels-Anime-Manga: 1.14%\n",
      "                                                                           Crafts-Hobbies: 1.14%\n",
      "                                                                           Mind-Body-Spirit: 1.14%\n",
      "                                                                           Dictionaries-Languages: 1.14%\n"
     ]
    }
   ],
   "source": [
    "import pandas as pd\n",
    "from tabulate import tabulate\n",
    "\n",
    "sentiments = ['positive', 'neutral', 'negative']\n",
    "table = []\n",
    "for genre in df['Genre'].unique():\n",
    "    genre_df = df[df['Genre'] == genre]\n",
    "    \n",
    "    # Calculate the percentage of sentiments for the current genre\n",
    "    genre_sentiments = genre_df['sentiment'].value_counts(normalize=True)\n",
    "    \n",
    "    row = [genre]\n",
    "    for sentiment in sentiments:\n",
    "        if sentiment in genre_sentiments:\n",
    "            percentage = round(genre_sentiments[sentiment] * 100, 2)\n",
    "        else:\n",
    "            percentage = 0\n",
    "        row.append(str(percentage) + '%')\n",
    "\n",
    "    # Calculate the percentage of predicted genres for the current genre\n",
    "    predicted_genre_counts = genre_df['predicted_genre'].value_counts(normalize=True)\n",
    "    predicted_genres = []\n",
    "    for predicted_genre in predicted_genre_counts.index:\n",
    "        percentage = round(predicted_genre_counts[predicted_genre] * 100, 2)\n",
    "        predicted_genres.append(str(predicted_genre) + ': ' + str(percentage) + '%')\n",
    "    row.append('\\n'.join(predicted_genres))\n",
    "\n",
    "    table.append(row)\n",
    "\n",
    "# Print the table\n",
    "headers = ['Genre', 'Positive (%)', 'Neutral (%)', 'Negative (%)', 'Predicted Genres']\n",
    "print(tabulate(table, headers=headers))\n"
   ]
  },
  {
   "cell_type": "code",
   "execution_count": 25,
   "id": "a5ab0d4c",
   "metadata": {},
   "outputs": [
    {
     "data": {
      "image/png": "[encoded data removed]",
      "text/plain": [
       "<Figure size 640x480 with 1 Axes>"
      ]
     },
     "metadata": {},
     "output_type": "display_data"
    },
    {
     "data": {
      "image/png": "[encoded data removed]",
      "text/plain": [
       "<Figure size 640x480 with 1 Axes>"
      ]
     },
     "metadata": {},
     "output_type": "display_data"
    }
   ],
   "source": [
    "import pandas as pd\n",
    "import matplotlib.pyplot as plt\n",
    "\n",
    "sentiments = ['positive', 'neutral', 'negative']\n",
    "genre_sentiments = pd.DataFrame(columns=['Genre', 'positive', 'neutral', 'negative'])\n",
    "for genre in df['Genre'].unique():\n",
    "    genre_df = df[df['Genre'] == genre]\n",
    "    genre_sentiments.loc[len(genre_sentiments)] = [genre] + [genre_df['sentiment'].value_counts(normalize=True).get(sentiment, 0) * 100 for sentiment in sentiments]\n",
    "\n",
    "# Sort the DataFrame by the 'Genre' column\n",
    "genre_sentiments.sort_values(by='Genre', inplace=True)\n",
    "\n",
    "# Plot the percentage of sentiments for each genre\n",
    "genre_sentiments.plot(x='Genre', kind='bar', stacked=True)\n",
    "plt.title('Sentiment Analysis Results by Genre')\n",
    "plt.xlabel('Genre')\n",
    "plt.ylabel('Percentage')\n",
    "plt.show()\n",
    "\n",
    "# Calculate the percentage of predicted genres\n",
    "predicted_genres = df['predicted_genre'].value_counts(normalize=True) * 100\n",
    "\n",
    "# Sort the Series by the index (which is the genre names)\n",
    "predicted_genres.sort_index(inplace=True)\n",
    "\n",
    "# Plot the percentage of predicted genres\n",
    "predicted_genres.plot(kind='bar')\n",
    "plt.title('Genre Prediction Results')\n",
    "plt.xlabel('Genre')\n",
    "plt.ylabel('Percentage')\n",
    "plt.show()\n"
   ]
  },
  {
   "cell_type": "markdown",
   "id": "5a974908",
   "metadata": {},
   "source": [
    "# TEST FUNCTION"
   ]
  },
  {
   "cell_type": "code",
   "execution_count": 26,
   "id": "c26e6d75",
   "metadata": {},
   "outputs": [],
   "source": [
    "def test(image):\n",
    "    from keras.utils import pad_sequences\n",
    "    import pickle\n",
    "    import pytesseract\n",
    "    from PIL import Image\n",
    "    from keras.models import load_model\n",
    "    import pandas as pd\n",
    "    import string\n",
    "    \n",
    "    df = pd.read_csv(\"Extracted_data.csv\")\n",
    "\n",
    "    pytesseract.pytesseract.tesseract_cmd = r'C:\\Program Files\\Tesseract-OCR\\tesseract.exe'\n",
    "    \n",
    "    img = Image.open(image)\n",
    "    text = pytesseract.image_to_string(img)\n",
    "    \n",
    "    text = text.lower()\n",
    "    text = ' '.join(text.split())\n",
    "    text = text.translate(str.maketrans('', '', string.punctuation))\n",
    "    \n",
    "    print(\"Book Title : \",text)\n",
    "    \n",
    "    # Load the saved tokenizer from file\n",
    "    with open(\"tokenizer.pkl\", \"rb\") as f:\n",
    "        tokenizer = pickle.load(f)\n",
    "        \n",
    "    if text != \"\":\n",
    "        X = tokenizer.texts_to_sequences([text])\n",
    "        X = pad_sequences(X)\n",
    "\n",
    "        model = load_model(\"model.h5\")\n",
    "        y_pred = model.predict(X,verbose=0)\n",
    "        y_pred = np.argmax(y_pred,axis=1)\n",
    "\n",
    "        dict_ = {}\n",
    "        for i in enumerate(list(df['Genre'].unique())):\n",
    "            dict_[i[0]] = i[1]\n",
    "\n",
    "        print(\"Predicted Genre :: \",dict_[y_pred[0]])\n",
    "    else:\n",
    "        print(\"Please choose another Image!\")"
   ]
  },
  {
   "cell_type": "code",
   "execution_count": 49,
   "id": "7ec27c70",
   "metadata": {},
   "outputs": [
    {
     "name": "stdout",
     "output_type": "stream",
     "text": [
      "Book Title :  buffett ‘the making of an american capinalise\n",
      "Predicted Genre ::  Biography\n"
     ]
    }
   ],
   "source": [
    "test(r\"book-covers\\Biography\\0000859.jpg\")"
   ]
  }
 ],
 "metadata": {
  "kernelspec": {
   "display_name": "Python 3 (ipykernel)",
   "language": "python",
   "name": "python3"
  },
  "language_info": {
   "codemirror_mode": {
    "name": "ipython",
    "version": 3
   },
   "file_extension": ".py",
   "mimetype": "text/x-python",
   "name": "python",
   "nbconvert_exporter": "python",
   "pygments_lexer": "ipython3",
   "version": "3.9.13"
  }
 },
 "nbformat": 4,
 "nbformat_minor": 5
}
